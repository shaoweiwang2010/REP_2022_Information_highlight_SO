{
 "cells": [
  {
   "cell_type": "code",
   "execution_count": 1,
   "metadata": {},
   "outputs": [
    {
     "name": "stdout",
     "output_type": "stream",
     "text": [
      "Resultant CSV after joining all CSV files at a particular location...\n",
      "       Unnamed: 0  Answer_ID  \\\n",
      "0               0   63542506   \n",
      "1               1   63544383   \n",
      "2               2   63550725   \n",
      "3               3   63562031   \n",
      "4               4   63576026   \n",
      "...           ...        ...   \n",
      "20710        1731   49503414   \n",
      "20711        1732   49507582   \n",
      "20712        1733   49507611   \n",
      "20713        1734   49508351   \n",
      "20714        1735   49509954   \n",
      "\n",
      "                                             Answer_Body  Number_of_cases  \\\n",
      "0      <p>c++ is an old language that grew out of C, ...                1   \n",
      "1      <p>First of all the statement which blits the ...                1   \n",
      "2      <p>for thread &quot;main&quot; java.lang.NullP...                1   \n",
      "3      <p>When you use a core profile <a href=\"https:...                1   \n",
      "4      <p>The maximum value for a <code>long</code> <...                1   \n",
      "...                                                  ...              ...   \n",
      "20710  <p>That's a caching issue, <a href=\"https://bu...                3   \n",
      "20711  <p>The <a href=\"https://www.ibm.com/support/kn...                1   \n",
      "20712  <p>You don't increment <code>write_index</code...                1   \n",
      "20713  <p>Lets take the IL code and see what is going...                1   \n",
      "20714  <p>By doing <code>go build</code> you are crea...                1   \n",
      "\n",
      "       Answers_lengths  Answers_words  Highlighted_text_length  \\\n",
      "0                 2377            373                      201   \n",
      "1                  360             47                       78   \n",
      "2                  313             20                       79   \n",
      "3                  318             45                       63   \n",
      "4                  264             44                        2   \n",
      "...                ...            ...                      ...   \n",
      "20710              796            133                       90   \n",
      "20711              310             51                       20   \n",
      "20712              608            111                       54   \n",
      "20713              869            145                        7   \n",
      "20714              664            126                      107   \n",
      "\n",
      "       Highlighted_text_words  Highlighted_text_percentage  \\\n",
      "0                          31                     8.456037   \n",
      "1                           9                    21.666667   \n",
      "2                           1                    25.239617   \n",
      "3                           2                    19.811321   \n",
      "4                           1                     0.757576   \n",
      "...                       ...                          ...   \n",
      "20710                      16                    11.306533   \n",
      "20711                       3                     6.451613   \n",
      "20712                       9                     8.881579   \n",
      "20713                       1                     0.805524   \n",
      "20714                      19                    16.114458   \n",
      "\n",
      "       Highlighted_word_percentage  \n",
      "0                         8.310992  \n",
      "1                        19.148936  \n",
      "2                         5.000000  \n",
      "3                         4.444444  \n",
      "4                         2.272727  \n",
      "...                            ...  \n",
      "20710                    12.030075  \n",
      "20711                     5.882353  \n",
      "20712                     8.108108  \n",
      "20713                     0.689655  \n",
      "20714                    15.079365  \n",
      "\n",
      "[20715 rows x 10 columns]\n"
     ]
    }
   ],
   "source": [
    "import pandas as pd\n",
    "import glob\n",
    "import os\n",
    "\n",
    "# setting the path for joining multiple files\n",
    "files = os.path.join(\"/home/shahla/ProjectWorkHTML/Posts_csv_files/Delete\", \"*.csv\")\n",
    "\n",
    "# list of merged files returned\n",
    "files = glob.glob(files)\n",
    "\n",
    "print(\"Resultant CSV after joining all CSV files at a particular location...\");\n",
    "\n",
    "# joining files with concat and read_csv\n",
    "df = pd.concat(map(pd.read_csv, files), ignore_index=True)\n",
    "print(df)"
   ]
  },
  {
   "cell_type": "code",
   "execution_count": 69,
   "metadata": {},
   "outputs": [],
   "source": [
    "df = df.drop_duplicates()\n"
   ]
  },
  {
   "cell_type": "code",
   "execution_count": 70,
   "metadata": {},
   "outputs": [
    {
     "data": {
      "text/plain": [
       "Unnamed: 0                     20715\n",
       "Answer_ID                      20715\n",
       "Answer_Body                    20715\n",
       "Number_of_cases                20715\n",
       "Answers_lengths                20715\n",
       "Answers_words                  20715\n",
       "Highlighted_text_length        20715\n",
       "Highlighted_text_words         20715\n",
       "Highlighted_text_percentage    20715\n",
       "Highlighted_word_percentage    20715\n",
       "dtype: int64"
      ]
     },
     "execution_count": 70,
     "metadata": {},
     "output_type": "execute_result"
    }
   ],
   "source": [
    "df.count()"
   ]
  },
  {
   "cell_type": "code",
   "execution_count": 62,
   "metadata": {},
   "outputs": [
    {
     "name": "stdout",
     "output_type": "stream",
     "text": [
      "Mean 1.1957518706251509\n",
      " Median 1.0\n",
      " Maximum 36\n"
     ]
    }
   ],
   "source": [
    "mean_of_html = df['Number_of_cases'].mean()\n",
    "median_of_html = df['Number_of_cases'].median()\n",
    "maximum_of_html = df['Number_of_cases'].max()\n",
    "print('Mean ' + str(mean_of_html) + \"\\n Median \" + str(median_of_html) + \"\\n Maximum \" + str(maximum_of_html))"
   ]
  },
  {
   "cell_type": "code",
   "execution_count": 63,
   "metadata": {},
   "outputs": [],
   "source": [
    "import numpy\n",
    "df['Highlighted_text_percentage'] = numpy.where(df['Highlighted_text_length'] < 1, 0, df['Highlighted_text_length']/df['Answers_lengths']*100)\n",
    "df['Highlighted_word_percentage'] = numpy.where(df['Highlighted_text_words'] < 1, 0, df['Highlighted_text_words']/df['Answers_words']*100)"
   ]
  },
  {
   "cell_type": "code",
   "execution_count": 67,
   "metadata": {},
   "outputs": [
    {
     "name": "stdout",
     "output_type": "stream",
     "text": [
      "Mean 18.088942099546724\n",
      " Median 10.596026490066226\n",
      " Maximum 100.0\n"
     ]
    }
   ],
   "source": [
    "mean_of_h_word = df['Highlighted_word_percentage'].mean()\n",
    "median_of_h_word = df['Highlighted_word_percentage'].median()\n",
    "maximum_of_h_word = df['Highlighted_word_percentage'].max()\n",
    "print('Mean ' + str(mean_of_h_word) + \"\\n Median \" + str(median_of_h_word) + \"\\n Maximum \" + str(maximum_of_h_word))"
   ]
  },
  {
   "cell_type": "code",
   "execution_count": 65,
   "metadata": {},
   "outputs": [],
   "source": [
    "# df['Highlighted_word_percentage'].idxmax()\n",
    "df[df['Highlighted_word_percentage']==df['Highlighted_word_percentage'].max()].to_csv('/home/shahla/ProjectWorkHTML/showMax_itPost.csv')"
   ]
  },
  {
   "cell_type": "code",
   "execution_count": 66,
   "metadata": {},
   "outputs": [],
   "source": [
    "df.to_csv('/home/shahla/ProjectWorkHTML/All_3M_per_Posts_delete_body_2.csv')"
   ]
  },
  {
   "cell_type": "code",
   "execution_count": 4,
   "metadata": {},
   "outputs": [
    {
     "name": "stderr",
     "output_type": "stream",
     "text": [
      "/home/shahla/.conda/envs/shaan_db/lib/python3.7/site-packages/IPython/core/interactiveshell.py:3457: DtypeWarning: Columns (16) have mixed types.Specify dtype option on import or set low_memory=False.\n",
      "  exec(code_obj, self.user_global_ns, self.user_ns)\n"
     ]
    }
   ],
   "source": [
    "df2 = pd.read_csv('/home/shahla/ProjectWorkHTML/all_answer_posts.csv')"
   ]
  },
  {
   "cell_type": "code",
   "execution_count": 8,
   "metadata": {},
   "outputs": [],
   "source": [
    "df2 = df2.drop_duplicates()\n"
   ]
  },
  {
   "cell_type": "code",
   "execution_count": 9,
   "metadata": {},
   "outputs": [
    {
     "data": {
      "text/plain": [
       "Unnamed: 0               36000000\n",
       "Id                       36000000\n",
       "PostTypeId               36000000\n",
       "ParentId                 36000000\n",
       "AcceptedAnswerId                0\n",
       "CreationDate             36000000\n",
       "Score                    36000000\n",
       "ViewCount                       0\n",
       "Body                     36000000\n",
       "OwnerUserId              35661305\n",
       "OwnerDisplayName           708027\n",
       "LastEditorUserId         10913482\n",
       "LastEditorDisplayName      161322\n",
       "LastEditDate             11002066\n",
       "LastActivityDate         36000000\n",
       "Title                           0\n",
       "Tags                            1\n",
       "AnswerCount                     0\n",
       "CommentCount             36000000\n",
       "FavoriteCount                   0\n",
       "ClosedDate                      0\n",
       "CommunityOwnedDate         125283\n",
       "ContentLicense           36000000\n",
       "dtype: int64"
      ]
     },
     "execution_count": 9,
     "metadata": {},
     "output_type": "execute_result"
    }
   ],
   "source": [
    "df2.count()"
   ]
  },
  {
   "cell_type": "code",
   "execution_count": null,
   "metadata": {},
   "outputs": [],
   "source": []
  }
 ],
 "metadata": {
  "kernelspec": {
   "display_name": "shaan_db",
   "language": "python",
   "name": "shaan_db"
  },
  "language_info": {
   "codemirror_mode": {
    "name": "ipython",
    "version": 3
   },
   "file_extension": ".py",
   "mimetype": "text/x-python",
   "name": "python",
   "nbconvert_exporter": "python",
   "pygments_lexer": "ipython3",
   "version": "3.7.13"
  }
 },
 "nbformat": 4,
 "nbformat_minor": 4
}
