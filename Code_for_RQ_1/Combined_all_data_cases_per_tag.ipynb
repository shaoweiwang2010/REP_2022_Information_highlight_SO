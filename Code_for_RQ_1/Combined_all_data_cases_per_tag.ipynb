{
 "cells": [
  {
   "cell_type": "code",
   "execution_count": 91,
   "metadata": {},
   "outputs": [
    {
     "name": "stdout",
     "output_type": "stream",
     "text": [
      "Resultant CSV after joining all CSV files at a particular location...\n",
      "       Unnamed: 0  Answer_ID  \\\n",
      "0               0   35906941   \n",
      "1               1   35908906   \n",
      "2               2   35914456   \n",
      "3               3   35918277   \n",
      "4               4   35918277   \n",
      "...           ...        ...   \n",
      "22360        2402   35888141   \n",
      "22361        2403   35893625   \n",
      "22362        2404   35894914   \n",
      "22363        2405   35895359   \n",
      "22364        2406   35898349   \n",
      "\n",
      "                                            Context_body Type_of_HTML_tag  \\\n",
      "0      Without code, it's hard to offer more specific...              del   \n",
      "1                               <strong>No need</strong>                s   \n",
      "2      A function can be called within another functi...                s   \n",
      "3                                               Probably                s   \n",
      "4                                                     No                s   \n",
      "...                                                  ...              ...   \n",
      "22360  avoid the clutter of nested <code>try</code> c...              del   \n",
      "22361                                          Rails 2.3              del   \n",
      "22362                                            exactly                s   \n",
      "22363                based on your mySQL table structure                s   \n",
      "22364  Since you are talking about an app you built, ...                s   \n",
      "\n",
      "       Highlighted_text_length  Highlighted_text_words  \n",
      "0                           52                       9  \n",
      "1                            8                       2  \n",
      "2                          140                      24  \n",
      "3                            8                       1  \n",
      "4                            2                       1  \n",
      "...                        ...                     ...  \n",
      "22360                       40                       7  \n",
      "22361                        9                       2  \n",
      "22362                        7                       1  \n",
      "22363                       35                       6  \n",
      "22364                      268                      41  \n",
      "\n",
      "[22365 rows x 6 columns]\n"
     ]
    }
   ],
   "source": [
    "import pandas as pd\n",
    "import glob\n",
    "import os\n",
    "\n",
    "# setting the path for joining multiple files\n",
    "files = os.path.join(\"/home/shahla/ProjectWorkHTML/Posts_csv_files/Delete/Tags\", \"*.csv\")\n",
    "\n",
    "# list of merged files returned\n",
    "files = glob.glob(files)\n",
    "\n",
    "print(\"Resultant CSV after joining all CSV files at a particular location...\");\n",
    "\n",
    "# joining files with concat and read_csv\n",
    "df = pd.concat(map(pd.read_csv, files), ignore_index=True)\n",
    "print(df)"
   ]
  },
  {
   "cell_type": "code",
   "execution_count": 92,
   "metadata": {},
   "outputs": [],
   "source": [
    "df = df.drop_duplicates()\n"
   ]
  },
  {
   "cell_type": "code",
   "execution_count": 93,
   "metadata": {},
   "outputs": [
    {
     "data": {
      "text/plain": [
       "Unnamed: 0                 22365\n",
       "Answer_ID                  22365\n",
       "Context_body               22349\n",
       "Type_of_HTML_tag           22365\n",
       "Highlighted_text_length    22365\n",
       "Highlighted_text_words     22365\n",
       "dtype: int64"
      ]
     },
     "execution_count": 93,
     "metadata": {},
     "output_type": "execute_result"
    }
   ],
   "source": [
    "df.count()"
   ]
  },
  {
   "cell_type": "code",
   "execution_count": 94,
   "metadata": {},
   "outputs": [
    {
     "name": "stdout",
     "output_type": "stream",
     "text": [
      "Mean 96.73065057008719 Median 54.0 Maximum 4387\n",
      "Mean 15.69358372456964 Median 8.0 Maximum 701\n"
     ]
    }
   ],
   "source": [
    "mean_of_characters = df['Highlighted_text_length'].mean()\n",
    "median_of_characters = df['Highlighted_text_length'].median()\n",
    "maximum_of_characters = df['Highlighted_text_length'].max()\n",
    "mean_of_word_count = df['Highlighted_text_words'].mean()\n",
    "median_of_word_count = df['Highlighted_text_words'].median()\n",
    "maximum_of_word_count = df['Highlighted_text_words'].max()\n",
    "print('Mean ' + str(mean_of_characters) + \" Median \" + str(median_of_characters) + \" Maximum \" + str(maximum_of_characters))\n",
    "print('Mean ' + str(mean_of_word_count) + \" Median \" + str(median_of_word_count) + \" Maximum \" + str(maximum_of_word_count))"
   ]
  },
  {
   "cell_type": "code",
   "execution_count": 89,
   "metadata": {},
   "outputs": [
    {
     "name": "stdout",
     "output_type": "stream",
     "text": [
      "6885\n",
      "6885\n"
     ]
    }
   ],
   "source": [
    "print(df['Highlighted_text_length'].idxmax())\n",
    "print(df['Highlighted_text_words'].idxmax())"
   ]
  },
  {
   "cell_type": "code",
   "execution_count": 90,
   "metadata": {},
   "outputs": [],
   "source": [
    "df.to_csv('/home/shahla/ProjectWorkHTML/All_3M_per_tags_delete_body_2.csv')"
   ]
  },
  {
   "cell_type": "code",
   "execution_count": null,
   "metadata": {},
   "outputs": [],
   "source": []
  }
 ],
 "metadata": {
  "kernelspec": {
   "display_name": "shaan_db",
   "language": "python",
   "name": "shaan_db"
  },
  "language_info": {
   "codemirror_mode": {
    "name": "ipython",
    "version": 3
   },
   "file_extension": ".py",
   "mimetype": "text/x-python",
   "name": "python",
   "nbconvert_exporter": "python",
   "pygments_lexer": "ipython3",
   "version": "3.7.13"
  }
 },
 "nbformat": 4,
 "nbformat_minor": 4
}
