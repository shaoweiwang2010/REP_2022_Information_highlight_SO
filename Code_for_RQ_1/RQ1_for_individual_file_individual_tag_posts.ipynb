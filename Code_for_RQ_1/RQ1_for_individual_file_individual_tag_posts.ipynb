{
 "cells": [
  {
   "cell_type": "code",
   "execution_count": null,
   "metadata": {},
   "outputs": [],
   "source": []
  },
  {
   "cell_type": "code",
   "execution_count": null,
   "metadata": {},
   "outputs": [],
   "source": []
  },
  {
   "cell_type": "code",
   "execution_count": 1,
   "metadata": {},
   "outputs": [
    {
     "data": {
      "text/plain": [
       "'/home/shahla/.conda/envs/shaan_db/bin/python'"
      ]
     },
     "execution_count": 1,
     "metadata": {},
     "output_type": "execute_result"
    }
   ],
   "source": [
    "import sys\n",
    "sys.executable"
   ]
  },
  {
   "cell_type": "code",
   "execution_count": 335,
   "metadata": {},
   "outputs": [],
   "source": [
    "import pandas as pd\n",
    "import numpy\n",
    "import re"
   ]
  },
  {
   "cell_type": "code",
   "execution_count": 336,
   "metadata": {},
   "outputs": [],
   "source": [
    "def remove_tags(text):\n",
    "    Tag_first = re.compile(r'<[^\\/>]+>')\n",
    "    Tag_end = re.compile(r'<[^>]+>')\n",
    "    without_first_tag = Tag_first.sub('',text)\n",
    "    return Tag_end.sub(' ', without_first_tag)"
   ]
  },
  {
   "cell_type": "code",
   "execution_count": 337,
   "metadata": {},
   "outputs": [],
   "source": [
    "def remove_pre_tag(text):\n",
    "    Tag_pre = re.compile(r'<pre([^>]+)?>((.|\\n)*?)<\\/pre>')\n",
    "#     subst = \"''\"\n",
    "    return Tag_pre.sub('',text)\n",
    "    # You can manually specify the number of replacements by changing the 4th argument\n",
    "#     result = re.sub(regex, subst, test_str, 0, re.MULTILINE)"
   ]
  },
  {
   "cell_type": "code",
   "execution_count": 338,
   "metadata": {},
   "outputs": [],
   "source": [
    "def getCaseNumberPerPost(filename,tag_list):\n",
    "    Answer_id_list = []\n",
    "    Number_of_cases= []\n",
    "    Answer_body = []\n",
    "    Answers_lengths = []\n",
    "    Answers_words = []\n",
    "    Highlighted_text_length = []\n",
    "    Highlighted_text_words = []\n",
    "    result_dataframe = pd.read_csv(filename)  \n",
    "\n",
    "    for index, row in result_dataframe.iterrows():\n",
    "        answer_id = row['Id']\n",
    "        answer_body = str(row['Body'])\n",
    "        without_pre = remove_pre_tag(answer_body)\n",
    "        without_tags_answer = remove_tags(without_pre)\n",
    "        without_tags_answer = without_tags_answer.strip()\n",
    "        text_length = len(without_tags_answer)\n",
    "        word_count_ans = len(without_tags_answer.split())\n",
    "        context_length = 0\n",
    "        word_count = 0\n",
    "        highlighted = False\n",
    "        total_cases_per_post = 0\n",
    "#         if answer_id == 109073:\n",
    "#             print(without_tags_answer)\n",
    "        for tag in tag_list:\n",
    "            # <(?i)i>((.|\\n)*?)<\\/(?i)i>\n",
    "            reg_str = \"<(?i)\" + tag + \">((.|\\n)*?)<\\/(?i)\" + tag + \">\"\n",
    "#             if tag == 'code':\n",
    "#                 reg_str = \"[^<pre.*?>]<\" + tag + \">(.*?)<\\/\" + tag + \">[^<\\/pre>]\"\n",
    "\n",
    "            # print(answer_id,answer_body)\n",
    "            res = re.findall(reg_str, without_pre)\n",
    "            # tag_count[tag]+=len(res)\n",
    "            total_cases_per_post += len(res)\n",
    "            if res:\n",
    "                if not highlighted:\n",
    "                    highlighted = True\n",
    "                for i in range(len(res)):\n",
    "                    # print(type(res[i]))\n",
    "                    text_1 = ''\n",
    "                    \n",
    "                    if type(res[i]) is tuple:\n",
    "                        text_1 = res[i][0]\n",
    "#                         print(res[i])\n",
    "                    else:\n",
    "                        text_1 = res[i]\n",
    "                \n",
    "                    tagged_text = remove_tags(text_1)\n",
    "                    context_length += len(tagged_text)\n",
    "                    word_count += len(tagged_text.split())\n",
    "#                     print(res,text_1)\n",
    "#         if total_cases_per_post > 0:\n",
    "#             Answer_id_list.append(answer_id)\n",
    "#             Answer_body.append(answer_body)\n",
    "#             Number_of_cases.append(total_cases_per_post)\n",
    "        if highlighted:\n",
    "            Answer_id_list.append(answer_id)\n",
    "            Answer_body.append(without_pre)\n",
    "            Number_of_cases.append(total_cases_per_post)\n",
    "            Answers_lengths.append(text_length)\n",
    "            Answers_words.append(word_count_ans)\n",
    "            Highlighted_text_length.append(context_length)\n",
    "            Highlighted_text_words.append(word_count)   \n",
    "            \n",
    "            \n",
    "            \n",
    "    return Answer_id_list,Answer_body,Number_of_cases,Answers_lengths,Answers_words,Highlighted_text_length,Highlighted_text_words\n",
    "#             if res:\n",
    "#                 print(len(res))\n",
    "\n",
    "#         if highlighted:\n",
    "#             Answers_lengths.append(text_length)\n",
    "#             Answers_words.append(word_count_ans)\n",
    "#             Answer_id_list.append(answer_id)\n",
    "#             Highlighted_text_length.append(context_length)\n",
    "#             Highlighted_text_words.append(word_count)\n",
    "#         else:\n",
    "#             not_highlighted_id.append(answer_id)\n",
    "#             not_highlighted_body.append(answer_body)\n",
    "    # result_dataframe['Answers_length'] = Answers_lengths\n",
    "    # result_dataframe['Answers_wordCount'] = Answers_words\n",
    "    # result_dataframe['Highlighted_text_length'] = Highlighted_text_length\n",
    "    # result_dataframe['Highlighted_text_words'] = Highlighted_text_words\n",
    "    # result_dataframe['Highlighted_text_percentage'] = numpy.where(result_dataframe['Highlighted_text_length'] < 1, 0, result_dataframe['Highlighted_text_length']/result_dataframe['Answers_length']*100)\n",
    "    # result_dataframe['Highlighted_word_percentage'] = numpy.where(result_dataframe['Highlighted_text_words'] < 1, 0, result_dataframe['Highlighted_text_words']/result_dataframe['Answers_wordCount']*100)\n",
    "\n",
    "\n"
   ]
  },
  {
   "cell_type": "code",
   "execution_count": 339,
   "metadata": {},
   "outputs": [],
   "source": [
    "def getCaseNumbersPerTag(filename,tag_list):\n",
    "    \n",
    "    Answer_id_list = []\n",
    "    Type_of_HTML_tag = []\n",
    "    Context_body = []\n",
    "    Highlighted_text_length = []\n",
    "    Highlighted_text_words = []\n",
    "    result_dataframe = pd.read_csv(filename)  \n",
    "\n",
    "    for index, row in result_dataframe.iterrows():\n",
    "        answer_id = row['Id']\n",
    "        answer_body = str(row['Body'])\n",
    "        without_pre = remove_pre_tag(answer_body)\n",
    "        context_length = 0\n",
    "        word_count = 0\n",
    "\n",
    "        for tag in tag_list:\n",
    "            # <(?i)i>((.|\\n)*?)<\\/(?i)i>\n",
    "            reg_str = \"<(?i)\" + tag + \">((.|\\n)*?)<\\/(?i)\" + tag + \">\"\n",
    "#             if tag == 'code':\n",
    "#                 reg_str = \"[^<pre.*?>]<\" + tag + \">(.*?)<\\/\" + tag + \">[^<\\/pre>]\"\n",
    "\n",
    "            # print(answer_id,answer_body)\n",
    "            res = re.findall(reg_str, without_pre)\n",
    "            # tag_count[tag]+=len(res)\n",
    "#             total_cases_per_post += len(res)\n",
    "            if res:\n",
    "                for i in range(len(res)):\n",
    "                    text_1 = ''\n",
    "\n",
    "                    if type(res[i]) is tuple:\n",
    "                        text_1 = res[i][0]\n",
    "                #                         print(res[i])\n",
    "                    else:\n",
    "                        text_1 = res[i]\n",
    "                    \n",
    "                    tagged_text = remove_tags(text_1)\n",
    "                    context_length = len(tagged_text)\n",
    "                    word_count = len(tagged_text.split())\n",
    "                    Answer_id_list.append(answer_id)\n",
    "                    Context_body.append(text_1)\n",
    "                    Type_of_HTML_tag.append(tag)\n",
    "                    Highlighted_text_length.append(context_length)\n",
    "                    Highlighted_text_words.append(word_count)\n",
    "                    \n",
    "    return Answer_id_list,Context_body,Type_of_HTML_tag,Highlighted_text_length,Highlighted_text_words"
   ]
  },
  {
   "cell_type": "code",
   "execution_count": 886,
   "metadata": {},
   "outputs": [],
   "source": [
    "Context_body = []\n",
    "Type_of_HTML_tag = []"
   ]
  },
  {
   "cell_type": "code",
   "execution_count": 887,
   "metadata": {},
   "outputs": [],
   "source": [
    "Answer_id_list = []\n",
    "Highlighted_text_length = []\n",
    "Highlighted_text_words = []\n",
    "tag_list_bold = ['b','strong']\n",
    "tag_list_code = ['code']\n",
    "tag_list_heading = ['h1','h2','h3','h4','h5','h6']\n",
    "tag_list_italic = ['em','i']\n",
    "tag_list_delete = ['del','s']\n",
    "tag_list_all = ['b','strong','code','h1','h2','h3','h4','h5','h6','em','i','del','s']\n",
    "\n",
    "source_file = '/home/shahla/ProjectWorkHTML/Posts_csv_files/AllPosts/_SELECT_FROM_PostREGEXP_1_s_last.csv'\n",
    "\n",
    "# dataframe_no_format = pd.DataFrame({'Answer_ID': not_highlighted_id,\n",
    "#      'Answers': not_highlighted_body\n",
    "#     })\n"
   ]
  },
  {
   "cell_type": "code",
   "execution_count": 888,
   "metadata": {},
   "outputs": [
    {
     "name": "stderr",
     "output_type": "stream",
     "text": [
      "/home/shahla/.conda/envs/shaan_db/lib/python3.7/site-packages/ipykernel_launcher.py:1: DtypeWarning: Columns (12) have mixed types.Specify dtype option on import or set low_memory=False.\n",
      "  \"\"\"Entry point for launching an IPython kernel.\n"
     ]
    }
   ],
   "source": [
    "Answer_id_list,Context_body,Type_of_HTML_tag,Highlighted_text_length,Highlighted_text_words = getCaseNumbersPerTag(source_file,tag_list_delete)\n",
    "# anslist = result_dataframe['Id'].tolist()\n",
    "# # print(anslist)\n",
    "dataframe_html = pd.DataFrame({'Answer_ID': Answer_id_list,\n",
    "                               'Context_body': Context_body,\n",
    "                               'Type_of_HTML_tag': Type_of_HTML_tag,\n",
    "                               'Highlighted_text_length': Highlighted_text_length,\n",
    "                               'Highlighted_text_words': Highlighted_text_words\n",
    "    })"
   ]
  },
  {
   "cell_type": "code",
   "execution_count": 889,
   "metadata": {},
   "outputs": [
    {
     "name": "stdout",
     "output_type": "stream",
     "text": [
      "Mean 78.17707150964813 Median 43.0 Maximum 945\n",
      "Mean 11.81838819523269 Median 5.0 Maximum 177\n"
     ]
    }
   ],
   "source": [
    "mean_of_characters = dataframe_html['Highlighted_text_length'].mean()\n",
    "median_of_characters = dataframe_html['Highlighted_text_length'].median()\n",
    "maximum_of_characters = dataframe_html['Highlighted_text_length'].max()\n",
    "mean_of_word_count = dataframe_html['Highlighted_text_words'].mean()\n",
    "median_of_word_count = dataframe_html['Highlighted_text_words'].median()\n",
    "maximum_of_word_count = dataframe_html['Highlighted_text_words'].max()\n",
    "print('Mean ' + str(mean_of_characters) + \" Median \" + str(median_of_characters) + \" Maximum \" + str(maximum_of_characters))\n",
    "print('Mean ' + str(mean_of_word_count) + \" Median \" + str(median_of_word_count) + \" Maximum \" + str(maximum_of_word_count))"
   ]
  },
  {
   "cell_type": "code",
   "execution_count": 890,
   "metadata": {},
   "outputs": [
    {
     "name": "stdout",
     "output_type": "stream",
     "text": [
      "426\n",
      "426\n"
     ]
    }
   ],
   "source": [
    "print(dataframe_html['Highlighted_text_length'].idxmax())\n",
    "print(dataframe_html['Highlighted_text_words'].idxmax())"
   ]
  },
  {
   "cell_type": "code",
   "execution_count": 891,
   "metadata": {},
   "outputs": [
    {
     "data": {
      "text/plain": [
       "Answer_ID                  881\n",
       "Context_body               881\n",
       "Type_of_HTML_tag           881\n",
       "Highlighted_text_length    881\n",
       "Highlighted_text_words     881\n",
       "dtype: int64"
      ]
     },
     "execution_count": 891,
     "metadata": {},
     "output_type": "execute_result"
    }
   ],
   "source": [
    "dataframe_html.count()"
   ]
  },
  {
   "cell_type": "code",
   "execution_count": 155,
   "metadata": {},
   "outputs": [],
   "source": [
    "# dataframe_html.head()\n",
    "ddd = pd.read_csv('/home/shahla/ProjectWorkHTML/Posts_csv_files/AllPosts/_SELECT_FROM_PostREGEXP_1_s_10th.csv')\n",
    "fff = pd.read_csv('/home/shahla/ProjectWorkHTML/Posts_csv_files/AllPosts/_SELECT_FROM_PostREGEXP_1_s_11th.csv')"
   ]
  },
  {
   "cell_type": "code",
   "execution_count": 156,
   "metadata": {},
   "outputs": [
    {
     "data": {
      "text/html": [
       "<div>\n",
       "<style scoped>\n",
       "    .dataframe tbody tr th:only-of-type {\n",
       "        vertical-align: middle;\n",
       "    }\n",
       "\n",
       "    .dataframe tbody tr th {\n",
       "        vertical-align: top;\n",
       "    }\n",
       "\n",
       "    .dataframe thead th {\n",
       "        text-align: right;\n",
       "    }\n",
       "</style>\n",
       "<table border=\"1\" class=\"dataframe\">\n",
       "  <thead>\n",
       "    <tr style=\"text-align: right;\">\n",
       "      <th></th>\n",
       "      <th>Id</th>\n",
       "      <th>PostTypeId</th>\n",
       "      <th>ParentId</th>\n",
       "      <th>AcceptedAnswerId</th>\n",
       "      <th>CreationDate</th>\n",
       "      <th>Score</th>\n",
       "      <th>ViewCount</th>\n",
       "      <th>Body</th>\n",
       "      <th>OwnerUserId</th>\n",
       "      <th>OwnerDisplayName</th>\n",
       "      <th>...</th>\n",
       "      <th>LastEditDate</th>\n",
       "      <th>LastActivityDate</th>\n",
       "      <th>Title</th>\n",
       "      <th>Tags</th>\n",
       "      <th>AnswerCount</th>\n",
       "      <th>CommentCount</th>\n",
       "      <th>FavoriteCount</th>\n",
       "      <th>ClosedDate</th>\n",
       "      <th>CommunityOwnedDate</th>\n",
       "      <th>ContentLicense</th>\n",
       "    </tr>\n",
       "  </thead>\n",
       "  <tbody>\n",
       "    <tr>\n",
       "      <th>0</th>\n",
       "      <td>56446102</td>\n",
       "      <td>2</td>\n",
       "      <td>56437698</td>\n",
       "      <td>NaN</td>\n",
       "      <td>1559659033</td>\n",
       "      <td>0</td>\n",
       "      <td>NaN</td>\n",
       "      <td>&lt;p&gt;Problem was with the \"WP Fastest Cache\" plu...</td>\n",
       "      <td>3915892.0</td>\n",
       "      <td>NaN</td>\n",
       "      <td>...</td>\n",
       "      <td>NaN</td>\n",
       "      <td>1559659033</td>\n",
       "      <td>NaN</td>\n",
       "      <td>NaN</td>\n",
       "      <td>NaN</td>\n",
       "      <td>2</td>\n",
       "      <td>NaN</td>\n",
       "      <td>NaN</td>\n",
       "      <td>NaN</td>\n",
       "      <td>CC BY-SA 4.0</td>\n",
       "    </tr>\n",
       "    <tr>\n",
       "      <th>1</th>\n",
       "      <td>56446105</td>\n",
       "      <td>2</td>\n",
       "      <td>56445626</td>\n",
       "      <td>NaN</td>\n",
       "      <td>1559659040</td>\n",
       "      <td>3</td>\n",
       "      <td>NaN</td>\n",
       "      <td>&lt;p&gt;There's a 255 character limit for a &lt;code&gt;R...</td>\n",
       "      <td>9245853.0</td>\n",
       "      <td>NaN</td>\n",
       "      <td>...</td>\n",
       "      <td>NaN</td>\n",
       "      <td>1559659040</td>\n",
       "      <td>NaN</td>\n",
       "      <td>NaN</td>\n",
       "      <td>NaN</td>\n",
       "      <td>0</td>\n",
       "      <td>NaN</td>\n",
       "      <td>NaN</td>\n",
       "      <td>NaN</td>\n",
       "      <td>CC BY-SA 4.0</td>\n",
       "    </tr>\n",
       "    <tr>\n",
       "      <th>2</th>\n",
       "      <td>56446106</td>\n",
       "      <td>2</td>\n",
       "      <td>56445980</td>\n",
       "      <td>NaN</td>\n",
       "      <td>1559659043</td>\n",
       "      <td>1</td>\n",
       "      <td>NaN</td>\n",
       "      <td>&lt;p&gt;A nested &lt;code&gt;filter&lt;/code&gt; would do the j...</td>\n",
       "      <td>7265507.0</td>\n",
       "      <td>NaN</td>\n",
       "      <td>...</td>\n",
       "      <td>NaN</td>\n",
       "      <td>1559659043</td>\n",
       "      <td>NaN</td>\n",
       "      <td>NaN</td>\n",
       "      <td>NaN</td>\n",
       "      <td>0</td>\n",
       "      <td>NaN</td>\n",
       "      <td>NaN</td>\n",
       "      <td>NaN</td>\n",
       "      <td>CC BY-SA 4.0</td>\n",
       "    </tr>\n",
       "    <tr>\n",
       "      <th>3</th>\n",
       "      <td>56446107</td>\n",
       "      <td>2</td>\n",
       "      <td>3169910</td>\n",
       "      <td>NaN</td>\n",
       "      <td>1559659047</td>\n",
       "      <td>0</td>\n",
       "      <td>NaN</td>\n",
       "      <td>&lt;p&gt;It depends on what sort of input file you'r...</td>\n",
       "      <td>370238.0</td>\n",
       "      <td>NaN</td>\n",
       "      <td>...</td>\n",
       "      <td>NaN</td>\n",
       "      <td>1559659047</td>\n",
       "      <td>NaN</td>\n",
       "      <td>NaN</td>\n",
       "      <td>NaN</td>\n",
       "      <td>0</td>\n",
       "      <td>NaN</td>\n",
       "      <td>NaN</td>\n",
       "      <td>NaN</td>\n",
       "      <td>CC BY-SA 4.0</td>\n",
       "    </tr>\n",
       "    <tr>\n",
       "      <th>4</th>\n",
       "      <td>56446109</td>\n",
       "      <td>2</td>\n",
       "      <td>56445734</td>\n",
       "      <td>NaN</td>\n",
       "      <td>1559659053</td>\n",
       "      <td>1</td>\n",
       "      <td>NaN</td>\n",
       "      <td>&lt;p&gt;In the &lt;code&gt;Activity&lt;/code&gt; which holds yo...</td>\n",
       "      <td>10635880.0</td>\n",
       "      <td>NaN</td>\n",
       "      <td>...</td>\n",
       "      <td>1.592644e+09</td>\n",
       "      <td>1559659053</td>\n",
       "      <td>NaN</td>\n",
       "      <td>NaN</td>\n",
       "      <td>NaN</td>\n",
       "      <td>3</td>\n",
       "      <td>NaN</td>\n",
       "      <td>NaN</td>\n",
       "      <td>NaN</td>\n",
       "      <td>CC BY-SA 4.0</td>\n",
       "    </tr>\n",
       "  </tbody>\n",
       "</table>\n",
       "<p>5 rows × 22 columns</p>\n",
       "</div>"
      ],
      "text/plain": [
       "         Id  PostTypeId  ParentId  AcceptedAnswerId  CreationDate  Score  \\\n",
       "0  56446102           2  56437698               NaN    1559659033      0   \n",
       "1  56446105           2  56445626               NaN    1559659040      3   \n",
       "2  56446106           2  56445980               NaN    1559659043      1   \n",
       "3  56446107           2   3169910               NaN    1559659047      0   \n",
       "4  56446109           2  56445734               NaN    1559659053      1   \n",
       "\n",
       "   ViewCount                                               Body  OwnerUserId  \\\n",
       "0        NaN  <p>Problem was with the \"WP Fastest Cache\" plu...    3915892.0   \n",
       "1        NaN  <p>There's a 255 character limit for a <code>R...    9245853.0   \n",
       "2        NaN  <p>A nested <code>filter</code> would do the j...    7265507.0   \n",
       "3        NaN  <p>It depends on what sort of input file you'r...     370238.0   \n",
       "4        NaN  <p>In the <code>Activity</code> which holds yo...   10635880.0   \n",
       "\n",
       "  OwnerDisplayName  ...  LastEditDate LastActivityDate  Title  Tags  \\\n",
       "0              NaN  ...           NaN       1559659033    NaN   NaN   \n",
       "1              NaN  ...           NaN       1559659040    NaN   NaN   \n",
       "2              NaN  ...           NaN       1559659043    NaN   NaN   \n",
       "3              NaN  ...           NaN       1559659047    NaN   NaN   \n",
       "4              NaN  ...  1.592644e+09       1559659053    NaN   NaN   \n",
       "\n",
       "   AnswerCount  CommentCount  FavoriteCount  ClosedDate  CommunityOwnedDate  \\\n",
       "0          NaN             2            NaN         NaN                 NaN   \n",
       "1          NaN             0            NaN         NaN                 NaN   \n",
       "2          NaN             0            NaN         NaN                 NaN   \n",
       "3          NaN             0            NaN         NaN                 NaN   \n",
       "4          NaN             3            NaN         NaN                 NaN   \n",
       "\n",
       "   ContentLicense  \n",
       "0    CC BY-SA 4.0  \n",
       "1    CC BY-SA 4.0  \n",
       "2    CC BY-SA 4.0  \n",
       "3    CC BY-SA 4.0  \n",
       "4    CC BY-SA 4.0  \n",
       "\n",
       "[5 rows x 22 columns]"
      ]
     },
     "execution_count": 156,
     "metadata": {},
     "output_type": "execute_result"
    }
   ],
   "source": [
    "# ddd.head()\n",
    "# dataframe_html.head()\n"
   ]
  },
  {
   "cell_type": "code",
   "execution_count": 892,
   "metadata": {},
   "outputs": [],
   "source": [
    "dataframe_html.to_csv('/home/shahla/ProjectWorkHTML/Posts_csv_files/Delete/last_3M_per_tags_heading_body.csv')"
   ]
  },
  {
   "cell_type": "code",
   "execution_count": 893,
   "metadata": {},
   "outputs": [],
   "source": [
    "Answer_body = []\n",
    "Number_of_cases = []\n",
    "Answers_lengths = []\n",
    "Answers_words = []\n",
    "Answer_id_list = []\n",
    "Highlighted_text_length = []\n",
    "Highlighted_text_words = []"
   ]
  },
  {
   "cell_type": "code",
   "execution_count": 894,
   "metadata": {},
   "outputs": [
    {
     "name": "stderr",
     "output_type": "stream",
     "text": [
      "/home/shahla/.conda/envs/shaan_db/lib/python3.7/site-packages/ipykernel_launcher.py:1: DtypeWarning: Columns (12) have mixed types.Specify dtype option on import or set low_memory=False.\n",
      "  \"\"\"Entry point for launching an IPython kernel.\n"
     ]
    }
   ],
   "source": [
    "Answer_id_list,Answer_body,Number_of_cases,Answers_lengths,Answers_words,Highlighted_text_length,Highlighted_text_words = getCaseNumberPerPost(source_file,tag_list_delete)\n",
    "# anslist = result_dataframe['Id'].tolist()\n",
    "# # print(anslist)\n",
    "dataframe_html = pd.DataFrame({'Answer_ID': Answer_id_list,\n",
    "                               'Answer_Body': Answer_body,\n",
    "                               'Number_of_cases': Number_of_cases,\n",
    "                               'Answers_lengths': Answers_lengths,\n",
    "                               'Answers_words': Answers_words,\n",
    "                               'Highlighted_text_length': Highlighted_text_length,\n",
    "                               'Highlighted_text_words': Highlighted_text_words\n",
    "    })"
   ]
  },
  {
   "cell_type": "code",
   "execution_count": 895,
   "metadata": {},
   "outputs": [
    {
     "data": {
      "text/plain": [
       "Answer_ID                  727\n",
       "Answer_Body                727\n",
       "Number_of_cases            727\n",
       "Answers_lengths            727\n",
       "Answers_words              727\n",
       "Highlighted_text_length    727\n",
       "Highlighted_text_words     727\n",
       "dtype: int64"
      ]
     },
     "execution_count": 895,
     "metadata": {},
     "output_type": "execute_result"
    }
   ],
   "source": [
    "dataframe_html.count()"
   ]
  },
  {
   "cell_type": "code",
   "execution_count": 896,
   "metadata": {},
   "outputs": [
    {
     "name": "stdout",
     "output_type": "stream",
     "text": [
      "Mean 1.2118294360385145\n",
      " Median 1.0\n",
      " Maximum 9\n"
     ]
    }
   ],
   "source": [
    "mean_of_html = dataframe_html['Number_of_cases'].mean()\n",
    "median_of_html = dataframe_html['Number_of_cases'].median()\n",
    "maximum_of_html = dataframe_html['Number_of_cases'].max()\n",
    "print('Mean ' + str(mean_of_html) + \"\\n Median \" + str(median_of_html) + \"\\n Maximum \" + str(maximum_of_html))"
   ]
  },
  {
   "cell_type": "code",
   "execution_count": 897,
   "metadata": {},
   "outputs": [],
   "source": [
    "dataframe_html['Highlighted_text_percentage'] = numpy.where(dataframe_html['Highlighted_text_length'] < 1, 0, dataframe_html['Highlighted_text_length']/dataframe_html['Answers_lengths']*100)\n",
    "dataframe_html['Highlighted_word_percentage'] = numpy.where(dataframe_html['Highlighted_text_words'] < 1, 0, dataframe_html['Highlighted_text_words']/dataframe_html['Answers_words']*100)"
   ]
  },
  {
   "cell_type": "code",
   "execution_count": 898,
   "metadata": {},
   "outputs": [
    {
     "name": "stdout",
     "output_type": "stream",
     "text": [
      "Mean 14.623079646637333\n",
      " Median 7.990314769975787\n",
      " Maximum 100.0\n"
     ]
    }
   ],
   "source": [
    "mean_of_h_word = dataframe_html['Highlighted_word_percentage'].mean()\n",
    "median_of_h_word = dataframe_html['Highlighted_word_percentage'].median()\n",
    "maximum_of_h_word = dataframe_html['Highlighted_word_percentage'].max()\n",
    "print('Mean ' + str(mean_of_h_word) + \"\\n Median \" + str(median_of_h_word) + \"\\n Maximum \" + str(maximum_of_h_word))"
   ]
  },
  {
   "cell_type": "code",
   "execution_count": 899,
   "metadata": {},
   "outputs": [],
   "source": [
    "dataframe_html.to_csv('/home/shahla/ProjectWorkHTML/Posts_csv_files/Delete/last_3M_per_posts_heading_body.csv')"
   ]
  },
  {
   "cell_type": "code",
   "execution_count": null,
   "metadata": {},
   "outputs": [],
   "source": []
  }
 ],
 "metadata": {
  "kernelspec": {
   "display_name": "shaan_db",
   "language": "python",
   "name": "shaan_db"
  },
  "language_info": {
   "codemirror_mode": {
    "name": "ipython",
    "version": 3
   },
   "file_extension": ".py",
   "mimetype": "text/x-python",
   "name": "python",
   "nbconvert_exporter": "python",
   "pygments_lexer": "ipython3",
   "version": "3.7.13"
  }
 },
 "nbformat": 4,
 "nbformat_minor": 4
}
